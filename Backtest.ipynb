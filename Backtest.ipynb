{
  "cells": [
    {
      "cell_type": "code",
      "execution_count": null,
      "metadata": {
        "id": "j3LY1aGWWX-E"
      },
      "outputs": [],
      "source": [
        "from google.colab import drive\n",
        "drive.mount('/content/drive')"
      ]
    },
    {
      "cell_type": "code",
      "execution_count": null,
      "metadata": {
        "id": "i5hk0eshWdKb"
      },
      "outputs": [],
      "source": [
        "%cd \"/content/drive/MyDrive/Colab Notebooks/3-2/\""
      ]
    },
    {
      "cell_type": "code",
      "execution_count": null,
      "metadata": {
        "id": "WquUSwswWr5V"
      },
      "outputs": [],
      "source": [
        "#바이오 companyId와 마켓 데이터 불러오기\n",
        "import pandas as pd\n",
        "df = pd.read_parquet('./inner_bio_companyId.parquet')\n",
        "indexes = list(df['companyId'])\n",
        "\n",
        "import pyarrow.parquet as pq\n",
        "import pandas as pd\n",
        "filters = [('companyId', 'in', indexes)]\n",
        "df_market = pd.read_parquet('./market', filters=filters, columns=['companyId', 'companyName', 'pricingDate', 'priceClose', 'adjustmentFactor'])\n",
        "df_market['companyId'] = list(map(int, df_market['companyId']))"
      ]
    },
    {
      "cell_type": "code",
      "source": [
        "df_market[df_market['companyId'] == 39414143]"
      ],
      "metadata": {
        "id": "pW_UzBsXHY32"
      },
      "execution_count": null,
      "outputs": []
    },
    {
      "cell_type": "code",
      "execution_count": null,
      "metadata": {
        "id": "2sBI3gFeW7CS"
      },
      "outputs": [],
      "source": [
        "#바이오 예상치 데이터 불러오기\n",
        "import pyarrow.parquet as pq\n",
        "import pandas as pd\n",
        "filters = [('companyId', 'in', indexes)]\n",
        "df_estimates = pd.read_parquet('./estimates', filters=filters, columns=['companyId', 'fiscalYear', 'dataItemName', 'dataItemValue', 'periodTypeName', 'ISOCode', 'estimateScaleName'])\n",
        "df_estimates"
      ]
    },
    {
      "cell_type": "code",
      "execution_count": null,
      "metadata": {
        "id": "GOZIPOYKXEW5"
      },
      "outputs": [],
      "source": [
        "df_estimates['companyId'] = list(map(int, df_estimates['companyId']))\n",
        "df_estimates['dataItemValue'] = list(map(float, df_estimates['dataItemValue']))\n",
        "df_estimates['fiscalYear'] = list(map(int, df_estimates['fiscalYear']))\n",
        "\n",
        "pd.options.mode.chained_assignment = None\n",
        "df_est = df_estimates.copy()\n",
        "\n",
        "for i in range(len(df_est)):\n",
        "  if df_est['estimateScaleName'][i] == 'Millions':\n",
        "    df_est['dataItemValue'][i] = df_est['dataItemValue'][i] * 1_000_000\n",
        "  elif df_est['estimateScaleName'][i] == 'Billions':\n",
        "    df_est['dataItemValue'][i] = df_est['dataItemValue'][i] * 1_000_000_000\n",
        "df_est.drop(['estimateScaleName'], axis=1, inplace=True)\n",
        "\n",
        "#39414143 예상치 데이터가 -e^11이 나옴에 Outlier라고 판단하여 제거\n",
        "df_est = df_est[df_est['companyId'] != 39414143]\n",
        "df_est\n",
        "\n",
        "#Estimates 데이터 항목 리스트\n",
        "estimates_unique = df_est.groupby(['dataItemName', 'periodTypeName']).size().reset_index(name='freq')\n",
        "estimates_unique.drop('freq', axis=1, inplace=True)\n",
        "\n",
        "#얘네만 다룰거임\n",
        "annual = estimates_unique[estimates_unique['periodTypeName'] == 'Annual']\n",
        "annual_item = list(annual['dataItemName'])\n",
        "annual_item"
      ]
    },
    {
      "cell_type": "code",
      "execution_count": null,
      "metadata": {
        "id": "AWqBptbMsIy0"
      },
      "outputs": [],
      "source": [
        "#환율 데이터 불러오기 + 22년 ~ 23년까지 Currency별로 데이터프레임 정리\n",
        "import pyarrow.parquet as pq\n",
        "import pandas as pd\n",
        "df_exchange = pd.read_parquet('./exchange')\n",
        "\n",
        "df_ex = df_exchange.copy()\n",
        "df_ex.sort_values('priceDate', ascending=True, inplace=True)\n",
        "df_ex.set_index('priceDate', drop=True, inplace=True)\n",
        "\n",
        "code = list(df_ex['ISOCode'].unique())\n",
        "fx = pd.DataFrame()\n",
        "\n",
        "for c in code:\n",
        "  ex = df_ex[(df_ex['ISOCode'] == c)].copy()\n",
        "  ex.rename(columns={'priceClose' : c}, inplace=True)\n",
        "  ex.drop(['ISOCode'], axis=1, inplace=True)\n",
        "  d = ex.loc['2022-09-22':'2023-09-22'].copy()\n",
        "  d = d[~d.index.duplicated(keep='first')]\n",
        "  d = d.apply(pd.to_numeric, errors='coerce')\n",
        "  fx = pd.concat([fx, d], axis=1)"
      ]
    },
    {
      "cell_type": "code",
      "execution_count": null,
      "metadata": {
        "id": "ndDOZuVwfRvO"
      },
      "outputs": [],
      "source": [
        "#바이오 재무 데이터 불러오기\n",
        "\n",
        "import pyarrow.parquet as pq\n",
        "import pandas as pd\n",
        "filters = [('companyId', 'in', indexes)]\n",
        "df_finance = pd.read_parquet('./financials', filters=filters, columns=['companyId', 'periodTypeName', 'fiscalQuarter', 'fiscalYear', 'dataItemName', 'dataItemValue', 'ISOCode', 'unitTypeValue'])\n",
        "\n",
        "#데이터 처리를 위해 필요한 칼럼들을 Int 형태로 변환\n",
        "df_finance['companyId'] = list(map(int, df_finance['companyId']))\n",
        "df_finance['dataItemValue'] = list(map(float, df_finance['dataItemValue']))\n",
        "df_finance['fiscalYear'] = list(map(int, df_finance['fiscalYear']))\n",
        "df_finance['unitTypeValue'] = list(map(int, df_finance['unitTypeValue']))\n",
        "\n",
        "#주어진 UnitTypeValue를 Value에 곱하여 단위를 맞춰줌\n",
        "\n",
        "df_finance['dataItemValue'] = df_finance['dataItemValue'] * df_finance['unitTypeValue']\n",
        "df_finance.drop(['unitTypeValue'], axis=1, inplace=True)\n",
        "\n",
        "##39414143 기업의 데이터가 Outlier라고 판단하여 제거\n",
        "df_finance = df_finance[df_finance['companyId'] != 39414143]\n",
        "\n",
        "#재무 데이터 중 고유 아이템을 그룹으로 묶어서 분류\n",
        "financials_unique = df_finance.groupby(['dataItemName', 'periodTypeName']).size().reset_index(name='freq')\n",
        "financials_unique.drop('freq', axis=1, inplace=True)\n",
        "financials_unique"
      ]
    },
    {
      "cell_type": "code",
      "execution_count": null,
      "metadata": {
        "id": "c9EbhrDntOf5"
      },
      "outputs": [],
      "source": [
        "#한 고유 데이터가 분기별, 연간별로 두 개로 나누어져서 존재함\n",
        "#그 중에 분기별 데이터만 사용함\n",
        "quarter = financials_unique[financials_unique['periodTypeName'] == 'Quarterly']\n",
        "quarter_item = list(quarter['dataItemName'])\n",
        "quarter_item"
      ]
    },
    {
      "cell_type": "code",
      "execution_count": null,
      "metadata": {
        "id": "YePEyBKDflWp"
      },
      "outputs": [],
      "source": [
        "#재무 데이터가 존재하는 기업이 많이 없는 경우가 있어 데이터 당 기업이 500개 이상인 기업에 대해서만 분석을 진행\n",
        "financial_item = []\n",
        "for item in quarter_item:\n",
        "  example_feature = df_finance[(df_finance['dataItemName'] == item) & (df_finance['periodTypeName'] == 'Quarterly')]\n",
        "  id = len(example_feature['companyId'].unique())\n",
        "  if id > 500:\n",
        "    financial_item.append(item)\n",
        "\n",
        "print(len(financial_item))"
      ]
    },
    {
      "cell_type": "code",
      "source": [
        "from tqdm import tqdm"
      ],
      "metadata": {
        "id": "L2VCZmobJkoM"
      },
      "execution_count": null,
      "outputs": []
    },
    {
      "cell_type": "code",
      "execution_count": null,
      "metadata": {
        "id": "ROZ2qJV5ZY0k"
      },
      "outputs": [],
      "source": [
        "#마켓 데이터로부터 기업의 주가를 시계열로 데이터로 정리\n",
        "df_price = df_market.copy()\n",
        "df_price['price'] = df_price['priceClose'] * df_price['adjustmentFactor']\n",
        "df_price['price'] = df_price['price'].apply(lambda x: round(x, 4))\n",
        "df_price.drop(['priceClose', 'adjustmentFactor'], axis=1, inplace=True)\n",
        "\n",
        "df_price['companyId'] = list(map(int, df_price['companyId']))\n",
        "#unique_id = list(df_price['companyId'].unique())\n",
        "unique_id = list(df_price['companyName'].unique())\n",
        "market = pd.DataFrame()\n",
        "\n",
        "#팩터 모델링을 위한 Training의 기간은 21년 9월 22일부터 22년 9월 22일까지\n",
        "for id in tqdm(unique_id):\n",
        "  ex = df_price[(df_price['companyName'] == id)].copy()\n",
        "  ex.rename(columns={'price' : id}, inplace=True)\n",
        "  ex.drop(['companyName'], axis=1, inplace=True)\n",
        "  ex.sort_values(by='pricingDate', inplace=True)\n",
        "  ex.set_index('pricingDate', inplace=True, drop=True)\n",
        "  d = ex.loc['2022-09-22':'2023-09-22'].copy()\n",
        "  d = d[~d.index.duplicated(keep='first')]\n",
        "  d = d.apply(pd.to_numeric, errors='coerce')\n",
        "  market = pd.concat([market, d], axis=1)\n",
        "\n",
        "market2 = market.copy()\n",
        "\n",
        "\"\"\"\n",
        "mark_date = market2.isnull().sum(axis=1).index\n",
        "mark_col = market2.isnull().sum(axis=0).index\n",
        "\n",
        "\n",
        "#한 날짜에 850개 초과의 기업이 주가가 없다면 해당 날짜 제거 (공휴일이라 판단)\n",
        "for i in mark_date:\n",
        "  if market2.isnull().sum(axis=1)[i] > 850:\n",
        "    market2.drop(i, inplace=True)\n",
        "\n",
        "#한 기업이 40일 이상의 주가가 없으면 제거 (결측치가 너무 많으면 평균이나 선형보간법으로 결측치를 채우는게 무리가 있다고 판단)\n",
        "for i in mark_col:\n",
        "  if market2.isnull().sum(axis=0)[i] > 40:\n",
        "    market2.drop(i, axis=1, inplace=True)\n",
        "\n",
        "#선형 보간법으로 우선 채우고 연속된 결측치의 경우에는 전 값으로 결측치를 처리\n",
        "market2.interpolate(method='linear', inplace=True)\n",
        "market2.fillna(method='bfill', inplace=True)\n",
        "market2.drop('Pharnext SA', axis=1, inplace=True)\n",
        "\"\"\""
      ]
    },
    {
      "cell_type": "code",
      "source": [
        "market2.drop('companyId', axis=1, inplace=True)\n",
        "market2.interpolate(method='linear', inplace=True)\n",
        "market2.fillna(method='bfill', inplace=True)\n",
        "market2"
      ],
      "metadata": {
        "id": "pmx7RZuqGUiI"
      },
      "execution_count": null,
      "outputs": []
    },
    {
      "cell_type": "code",
      "source": [
        "mark_col = market2.isnull().sum(axis=0).index\n",
        "for i in mark_col:\n",
        "  if market2.isnull().sum(axis=0)[i] > 40:\n",
        "    market2.drop(i, axis=1, inplace=True)\n",
        "market2"
      ],
      "metadata": {
        "id": "K829Wq17LPAB"
      },
      "execution_count": null,
      "outputs": []
    },
    {
      "cell_type": "code",
      "execution_count": null,
      "metadata": {
        "id": "xZdS1rm76sCy"
      },
      "outputs": [],
      "source": [
        "import pandas as pd\n",
        "financial_final = pd.read_csv(\"financial_final.csv\")\n",
        "estimates_final = pd.read_csv(\"estimates_final.csv\")"
      ]
    },
    {
      "cell_type": "code",
      "execution_count": null,
      "metadata": {
        "id": "IZJPxHZY7YYK"
      },
      "outputs": [],
      "source": [
        "#Estimates 데이터에 대한 포트폴리오와 Financial 데이터에 대한 포트폴리오 그리고 주가 데이터 합치기\n",
        "\n",
        "estimates_final2 = estimates_final.copy()\n",
        "financial_final2 = financial_final.copy()\n",
        "estimates_final2.set_index('Unnamed: 0', drop=True, inplace=True)\n",
        "estimates_final2.index = estimates_final2.index.astype(str)\n",
        "financial_final2.set_index('Unnamed: 0', drop=True, inplace=True)\n",
        "financial_final2.index = financial_final2.index.astype(str)\n",
        "financial_final2[list(financial_final2.columns)[1159:]]\n",
        "result_df = pd.merge(estimates_final2, financial_final2[list(financial_final2.columns)[1159:]], left_index=True, right_index=True)\n",
        "result_df"
      ]
    },
    {
      "cell_type": "code",
      "execution_count": null,
      "metadata": {
        "id": "-6Jnuf5NBFEN"
      },
      "outputs": [],
      "source": [
        "result_df.to_csv(\"final_df.csv\", index=True)"
      ]
    },
    {
      "cell_type": "code",
      "source": [
        "import pandas as pd\n",
        "final_df = pd.read_csv(\"final_df.csv\")\n",
        "final_df"
      ],
      "metadata": {
        "id": "EQTBwrdM0rt1"
      },
      "execution_count": null,
      "outputs": []
    },
    {
      "cell_type": "code",
      "source": [
        "final_df.set_index(\"Unnamed: 0\", drop=True, inplace=True)\n",
        "final_df"
      ],
      "metadata": {
        "id": "-2z1AHqO1U7s"
      },
      "execution_count": null,
      "outputs": []
    },
    {
      "cell_type": "code",
      "source": [
        "fin = final_df.copy()\n",
        "\n",
        "col = list(fin.columns)\n",
        "factors = ['Long-term Investments', 'Unearned Revenue Current, Total', 'Gain (Loss) On Sale Of Assets', 'EPS Normalized - Standard Deviation']"
      ],
      "metadata": {
        "id": "_sbDrhrw1kV-"
      },
      "execution_count": null,
      "outputs": []
    },
    {
      "cell_type": "code",
      "source": [
        "from tqdm import tqdm\n",
        "import statsmodels.api as sm\n",
        "cnt = 0\n",
        "\n",
        "for col in tqdm(fin.columns[:-132]):\n",
        "  res = sm.OLS(endog=fin[col], exog=sm.add_constant(fin[factors])).fit()\n",
        "  if res.pvalues[1] <= 0.05:\n",
        "    cnt += 1"
      ],
      "metadata": {
        "id": "Adv_GTfX1nyw"
      },
      "execution_count": null,
      "outputs": []
    },
    {
      "cell_type": "code",
      "source": [
        "print(cnt)"
      ],
      "metadata": {
        "id": "hLtmzutC3bqK"
      },
      "execution_count": null,
      "outputs": []
    },
    {
      "cell_type": "code",
      "execution_count": null,
      "metadata": {
        "id": "qhK70K5GXKgy"
      },
      "outputs": [],
      "source": [
        "#기존에는 Estimates와 Financial 각각에서의 프레임워크가 존재했음\n",
        "#Estimate는 연간 데이터로 예를 들어 22년 예상치를 통해 22년의 포트폴리오를 구성함\n",
        "#Financial는 분기 데이터로 예를 들어 22년 1분기 재무 데이터를 통해 22년 2분기 포트폴리오를 구성함\n",
        "#Estimate에서의 유의미한 팩터와 Financial에서의 유의미한 팩터를 합쳐서 팩터 투자를 진행할거임\n",
        "#재무 팩터 같은 경우는 분기마다 업데이트 되며, 예상치 팩터는 연간 별로 업데이트가 된다\n",
        "#-> 따라서 예상치는 1년 동안 같은 값을 가지는 반면에 재무 팩터는 분기마다 업데이트가 된다\n",
        "#멀티 팩터 모델에서 동일한 가중치를 주어 한 데이터에 대해 Normalize를 진행 후\n",
        "#이 값들을 멀티 팩터에 대해 다 종합해서 더한 후에 거기서 크기 순으로 순위를 결정하고 상위 20개 종목에 롱을 하는 투자 전략\n",
        "\n",
        "def cal(item, year, quarter):\n",
        "  #재무 데이터면 분기별로 데이터 불러오기\n",
        "  if item in financial_item:\n",
        "    example_feature = df_finance[(df_finance['dataItemName'] == item)  & (df_finance['fiscalYear'] == year) & (df_finance['fiscalQuarter'] == quarter)]\n",
        "    example = example_feature[['companyId', 'dataItemValue', 'ISOCode']].copy()\n",
        "\n",
        "  #재무가 아닌 예상치 데이터라면 연간 데이터 불러오기\n",
        "  else:\n",
        "  #22년 4분기 재무 데이터를 통해서 23년 1분기의 포트폴리오를 구성하는데, 예상치는 23년 데이터를 통해 23년의 포트폴리오를 구성한다\n",
        "    if (quarter == 4):#예외 처리\n",
        "      year = 2023\n",
        "    example_feature = df_est[(df_est['dataItemName'] == item)  & (df_est['fiscalYear'] == year)]\n",
        "    example = example_feature[['companyId', 'dataItemValue', 'ISOCode']].copy()\n",
        "\n",
        "  example2 = example.copy()\n",
        "\n",
        "  for id in list(map(int, example2['companyId'])):\n",
        "    num = len(example2[example2['companyId']==id]['dataItemValue'].values)\n",
        "    if num > 1:\n",
        "      idx = list(example2[example2['companyId']==id]['dataItemValue'].index)\n",
        "      avg = []\n",
        "      for i in idx:\n",
        "        a = example2.loc[i]['dataItemValue']\n",
        "        avg.append(a)\n",
        "      average = sum(avg) / len(avg)\n",
        "      example2.loc[idx[0]]['dataItemValue'] = average\n",
        "      example2.drop([i for i in idx[0:]], inplace=True)\n",
        "  example2.reset_index(drop=True, inplace=True)\n",
        "\n",
        "  #재무 데이터가 어느 나라의 기업이냐에 따라 명시되어 있는 Currency가 다름 (ISOCode를 통해 확인 가능)\n",
        "  #이런 식으로 각 포트폴리오 구성이 시작되는 날짜를 기준으로 환율을 곱하여 값을 맞춰줌\n",
        "\n",
        "  #본래 재무 데이터는 전 분기 데이터를 가지고 다음 분기의 종목을 결정하고, 예상치 데이터는 해당 년도의 예상치를 바탕으로 해당 년도의 종목의 결정함\n",
        "  #하지만 23년 재무 데이터가 없으므로 23년 분기마다 새로운 종목을 구성하는게 불가능하다\n",
        "  #따라서 22년 4분기 재무 데이터를 바탕으로 23년 9월까지의 종목을 한 번에 선정\n",
        "  if item in financial_item:\n",
        "    if (year == 2022) & (quarter == 2):\n",
        "      for i in range(len(example2)):\n",
        "        if example2['ISOCode'][i] != \"USD\":\n",
        "          example2['dataItemValue'][i] = (example2['dataItemValue'][i]) / (fx.loc[\"2022-09-22\", example2['ISOCode'][i]])\n",
        "    elif (year == 2022) & (quarter == 3):\n",
        "      for i in range(len(example2)):\n",
        "        if example2['ISOCode'][i] != \"USD\":\n",
        "          example2['dataItemValue'][i] = (example2['dataItemValue'][i]) / (fx.loc[\"2022-10-01\", example2['ISOCode'][i]])\n",
        "    else:\n",
        "      #year = 2022, quarter = 4; year = 2023을 둘 다 고려\n",
        "      for i in range(len(example2)):\n",
        "        if example2['ISOCode'][i] != \"USD\":\n",
        "          example2['dataItemValue'][i] = (example2['dataItemValue'][i]) / (fx.loc[\"2023-01-01\", example2['ISOCode'][i]])\n",
        "  else:\n",
        "    if (year == 2022):\n",
        "      for i in range(len(example2)):\n",
        "        if example2['ISOCode'][i] != \"USD\":\n",
        "          example2['dataItemValue'][i] = (example2['dataItemValue'][i]) / (fx.loc[\"2022-09-22\", example2['ISOCode'][i]])\n",
        "    else:\n",
        "      for i in range(len(example2)):\n",
        "        if example2['ISOCode'][i] != \"USD\":\n",
        "          example2['dataItemValue'][i] = (example2['dataItemValue'][i]) / (fx.loc[\"2023-01-01\", example2['ISOCode'][i]])\n",
        "\n",
        "\n",
        "  #작업하는 데이터의 값을 내림차순으로 정렬\n",
        "  example2.drop('ISOCode', axis=1, inplace=True)\n",
        "  example2.sort_values(by='dataItemValue', ascending=False, inplace=True)\n",
        "\n",
        "  #Initialize the StandardScaler\n",
        "  scaler = StandardScaler()\n",
        "\n",
        "  # Apply standard scaling to the chosen column\n",
        "  example2.set_index('companyId', drop=True, inplace=True)\n",
        "  scaled = scaler.fit_transform(example2)\n",
        "  scaled_df = pd.DataFrame(scaled, index = example2.index, columns=example2.columns)\n",
        "\n",
        "  return scaled_df"
      ]
    },
    {
      "cell_type": "code",
      "execution_count": null,
      "metadata": {
        "id": "xTBlzNEphYAR"
      },
      "outputs": [],
      "source": [
        "pd.options.mode.chained_assignment = None\n",
        "from sklearn.preprocessing import RobustScaler, MinMaxScaler, StandardScaler\n",
        "\n",
        "quar = [2,3,4]\n",
        "y = 2022\n",
        "\n",
        "#팩터가 재무라면 분기별로 (23년은 데이터가 없어서 22년 4분기 데이터를 활용하여 23년 9월까지의 종목 선정),\n",
        "#예상치라면 연간별로 값을 산출하여 포트폴리오를 새롭게 구성함\n",
        "\n",
        "def weights(items):\n",
        "  result_df = pd.DataFrame()\n",
        "  fin_df = pd.DataFrame()\n",
        "  for q in quar:\n",
        "    for item in items:\n",
        "      scaled_df = cal(item, y, q)\n",
        "      # 22년 2분기 재무 데이터로 9월 22일 ~ 9월 31일 포폴 가중치 계산\n",
        "      result_df = pd.concat([result_df, scaled_df]).groupby(level=0).sum()\n",
        "    result_df.sort_values('dataItemValue', ascending=False, inplace=True)\n",
        "    comp_id = list(result_df.index)\n",
        "    market3 = market2.copy()\n",
        "    market3 = market3.reindex(columns=comp_id)\n",
        "    market3 = market3.dropna(axis=1)\n",
        "\n",
        "    if (q == 2):\n",
        "        price_y = market3.loc['2022-09-22':'2022-09-30'].copy()\n",
        "    elif (q == 3):\n",
        "        price_y = market3.loc['2022-10-01':'2022-12-31'].copy()\n",
        "    else:\n",
        "        price_y = market3.loc['2023-01-01':'2023-09-22'].copy()\n",
        "    for col in price_y.columns:\n",
        "      price_y[col] = price_y[col].apply(lambda x: float(x))\n",
        "\n",
        "    price_y = price_y.pct_change(1).dropna()\n",
        "    price_y = price_y + 1\n",
        "    cum_ret = price_y.cumprod() - 1\n",
        "    cum_ret[\"Portfolio\"] = (cum_ret.iloc[:, 0:200].sum(axis=1)) / 200\n",
        "    fin_df = pd.concat([fin_df, cum_ret[\"Portfolio\"]], axis=0)\n",
        "  return fin_df"
      ]
    },
    {
      "cell_type": "code",
      "source": [
        "qqq = pd.read_csv(\"test_result.csv\")\n",
        "qqq.drop('Unnamed: 0', axis=1, inplace=True)\n",
        "qty = qqq.copy()"
      ],
      "metadata": {
        "id": "iPXEGcRP-3zK"
      },
      "execution_count": null,
      "outputs": []
    },
    {
      "cell_type": "code",
      "source": [
        "qty"
      ],
      "metadata": {
        "id": "EBCmjqxC_hxE"
      },
      "execution_count": null,
      "outputs": []
    },
    {
      "cell_type": "code",
      "source": [
        "unique_id = list(qty['companyName'].unique())\n",
        "kt = pd.DataFrame()\n",
        "\n",
        "#팩터 모델링을 위한 Training의 기간은 21년 9월 22일부터 22년 9월 22일까지\n",
        "for id in unique_id:\n",
        "  ex = qty[(qty['companyName'] == id)].copy()\n",
        "  ex.rename(columns={'new' : id}, inplace=True)\n",
        "  ex.drop(['companyName'], axis=1, inplace=True)\n",
        "  ex.sort_values(by='announcedDate', inplace=True)\n",
        "  ex.set_index('announcedDate', inplace=True, drop=True)\n",
        "  ex = ex[~ex.index.duplicated(keep='first')]\n",
        "  ex = ex.apply(pd.to_numeric, errors='coerce')\n",
        "  kt = pd.concat([kt, ex], axis=1)\n",
        "\n",
        "kt2 = kt.copy()\n",
        "\"\"\"\n",
        "mark_date = market2.isnull().sum(axis=1).index\n",
        "mark_col = market2.isnull().sum(axis=0).index\n",
        "\n",
        "#한 날짜에 850개 초과의 기업이 주가가 없다면 해당 날짜 제거 (공휴일이라 판단)\n",
        "for i in mark_date:\n",
        "  if market2.isnull().sum(axis=1)[i] > 850:\n",
        "    market2.drop(i, inplace=True)\n",
        "\n",
        "#한 기업이 40일 이상의 주가가 없으면 제거 (결측치가 너무 많으면 평균이나 선형보간법으로 결측치를 채우는게 무리가 있다고 판단)\n",
        "for i in mark_col:\n",
        "  if market2.isnull().sum(axis=0)[i] > 40:\n",
        "    market2.drop(i, axis=1, inplace=True)\n",
        "\n",
        "#선형 보간법으로 우선 채우고 연속된 결측치의 경우에는 전 값으로 결측치를 처리\n",
        "market2.interpolate(method='linear', inplace=True)\n",
        "market2.fillna(method='bfill', inplace=True)\n",
        "market2.drop(39414143, axis=1, inplace=True)\n",
        "\"\"\""
      ],
      "metadata": {
        "id": "ZbPq7AXE_QMm"
      },
      "execution_count": null,
      "outputs": []
    },
    {
      "cell_type": "code",
      "source": [
        "kt2 = kt.copy()"
      ],
      "metadata": {
        "id": "48ggqaRjCY5p"
      },
      "execution_count": null,
      "outputs": []
    },
    {
      "cell_type": "code",
      "source": [
        "kt2.loc['2022-10-01'] += kt2.loc[\"2022-09-23\":\"2022-09-30\"].sum()\n",
        "kt2.loc['2023-01-01'] += kt2.loc[\"2022-10-01\":\"2022-12-31\"].sum()\n",
        "kt2"
      ],
      "metadata": {
        "id": "unbA98hT__oG"
      },
      "execution_count": null,
      "outputs": []
    },
    {
      "cell_type": "code",
      "source": [
        "index_1 = list(kt2.loc['2022-09-22'].sort_values(ascending=False).index)\n",
        "index_2 = list(kt2.loc['2022-10-01'].sort_values(ascending=False).index)\n",
        "index_3 = list(kt2.loc['2023-01-01'].sort_values(ascending=False).index)"
      ],
      "metadata": {
        "id": "52QHkkYeD7tZ"
      },
      "execution_count": null,
      "outputs": []
    },
    {
      "cell_type": "code",
      "source": [
        "len(index_3)"
      ],
      "metadata": {
        "colab": {
          "base_uri": "https://localhost:8080/"
        },
        "id": "ACVr6GvdMXLg",
        "outputId": "b1d330ef-ab8c-42b1-bd4d-463ca943dafe"
      },
      "execution_count": null,
      "outputs": [
        {
          "output_type": "execute_result",
          "data": {
            "text/plain": [
              "1300"
            ]
          },
          "metadata": {},
          "execution_count": 79
        }
      ]
    },
    {
      "cell_type": "code",
      "source": [
        "lis = [index_1, index_2, index_3]"
      ],
      "metadata": {
        "id": "9Yvt0dm7FFIA"
      },
      "execution_count": null,
      "outputs": []
    },
    {
      "cell_type": "code",
      "source": [
        "market3"
      ],
      "metadata": {
        "id": "yFL0bUCuGOb-"
      },
      "execution_count": null,
      "outputs": []
    },
    {
      "cell_type": "code",
      "source": [
        "for i in lis:\n",
        "  print(i)"
      ],
      "metadata": {
        "id": "Y-AM-RcmGglc"
      },
      "execution_count": null,
      "outputs": []
    },
    {
      "cell_type": "code",
      "source": [
        "fin_df = pd.DataFrame()\n",
        "\n",
        "for i in lis:\n",
        "  market3 = market2.copy()\n",
        "  market3 = market3.reindex(columns=i)\n",
        "\n",
        "  #선형 보간법으로 우선 채우고 연속된 결측치의 경우에는 전 값으로 결측치를 처리\n",
        "  market3.interpolate(method='linear', inplace=True)\n",
        "\n",
        "  if i == index_1:\n",
        "    price_y = market3.loc['2022-09-22':'2022-09-30'].copy()\n",
        "  elif i == index_2:\n",
        "    price_y = market3.loc['2022-10-01':'2022-12-31'].copy()\n",
        "  else:\n",
        "    price_y = market3.loc['2023-01-01':'2023-09-22'].copy()\n",
        "\n",
        "  for col in price_y.columns:\n",
        "    price_y[col] = price_y[col].apply(lambda x: float(x))\n",
        "\n",
        "  price_y = price_y.pct_change(1).dropna()\n",
        "  price_y = price_y + 1\n",
        "  cum_ret = price_y.cumprod() - 1\n",
        "  cum_ret[\"Portfolio\"] = (cum_ret.iloc[:, 0:200].sum(axis=1)) / 200\n",
        "  fin_df = pd.concat([fin_df, cum_ret[\"Portfolio\"]], axis=0)"
      ],
      "metadata": {
        "id": "3PmNVaVhEy0u"
      },
      "execution_count": null,
      "outputs": []
    },
    {
      "cell_type": "code",
      "source": [
        "fin_df"
      ],
      "metadata": {
        "id": "EGgiCm_XNW9N"
      },
      "execution_count": null,
      "outputs": []
    },
    {
      "cell_type": "code",
      "source": [
        "import matplotlib.pyplot as plt\n",
        "# Plot the DataFrame with legends\n",
        "ax = fin_df.plot(linestyle='-', figsize=(8, 5))\n",
        "\n",
        "# Set labels and title\n",
        "ax.set_xlabel(\"Dates\")\n",
        "ax.set_ylabel(\"Cumulative Returns (%)\")\n",
        "ax.set_title(\"Factor investing VS IBB\")\n",
        "\n",
        "# Display the legend using the column names\n",
        "ax.legend(df.columns)\n",
        "\n",
        "# Show the plot\n",
        "plt.show()"
      ],
      "metadata": {
        "id": "Zicng9xHL__w"
      },
      "execution_count": null,
      "outputs": []
    },
    {
      "cell_type": "code",
      "execution_count": null,
      "metadata": {
        "id": "ZHjLAbRHYRvj"
      },
      "outputs": [],
      "source": [
        "import yfinance as yf\n",
        "import pandas as pd\n",
        "\n",
        "# Define the date range\n",
        "start_date = '2022-09-22'\n",
        "end_date = '2023-09-22'\n",
        "\n",
        "# Download historical data for S&P 500\n",
        "IBB = yf.download('IBB', start=start_date, end=end_date)\n",
        "\n",
        "# Extract the closing prices\n",
        "IBB_close = IBB['Close']\n",
        "\n",
        "# Calculate daily returns\n",
        "IBB_returns = IBB_close.pct_change()\n",
        "\n",
        "# Calculate total return\n",
        "total_return = ((1 + IBB_returns).cumprod() - 1).dropna()\n",
        "total_return"
      ]
    },
    {
      "cell_type": "code",
      "execution_count": null,
      "metadata": {
        "id": "PXXjWrELbVwZ"
      },
      "outputs": [],
      "source": [
        "factor = ['Long-term Investments', 'Unearned Revenue Current, Total', 'Gain (Loss) On Sale Of Assets', 'EPS Normalized - Standard Deviation']\n",
        "q = weights(factor)\n",
        "q"
      ]
    },
    {
      "cell_type": "code",
      "execution_count": null,
      "metadata": {
        "id": "7QyfituA3KXR"
      },
      "outputs": [],
      "source": [
        "z = q.copy()\n",
        "df = pd.concat([z, total_return], axis=1)\n",
        "df.dropna(inplace=True)\n",
        "new_column_names = {\n",
        "    0: factor[0],\n",
        "    'Close': 'IBB',\n",
        "}\n",
        "\n",
        "df.rename(columns=new_column_names, inplace=True)\n",
        "df"
      ]
    },
    {
      "cell_type": "code",
      "execution_count": null,
      "metadata": {
        "id": "xflBPwLN75F7"
      },
      "outputs": [],
      "source": [
        "# Plot the DataFrame with legends\n",
        "ax = df.plot(linestyle='-', figsize=(8, 5))\n",
        "\n",
        "# Set labels and title\n",
        "ax.set_xlabel(\"Dates\")\n",
        "ax.set_ylabel(\"Cumulative Returns (%)\")\n",
        "ax.set_title(\"Factor investing VS IBB\")\n",
        "\n",
        "# Display the legend using the column names\n",
        "ax.legend(df.columns)\n",
        "\n",
        "# Show the plot\n",
        "plt.show()"
      ]
    }
  ],
  "metadata": {
    "colab": {
      "provenance": []
    },
    "kernelspec": {
      "display_name": "Python 3",
      "name": "python3"
    },
    "language_info": {
      "name": "python"
    }
  },
  "nbformat": 4,
  "nbformat_minor": 0
}