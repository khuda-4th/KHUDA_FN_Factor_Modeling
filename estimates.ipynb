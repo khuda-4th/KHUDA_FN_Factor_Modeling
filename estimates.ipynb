{
  "nbformat": 4,
  "nbformat_minor": 0,
  "metadata": {
    "colab": {
      "provenance": [],
      "history_visible": true
    },
    "kernelspec": {
      "name": "python3",
      "display_name": "Python 3"
    },
    "language_info": {
      "name": "python"
    }
  },
  "cells": [
    {
      "cell_type": "code",
      "execution_count": null,
      "metadata": {
        "id": "dDxlt7hKo4NO",
        "colab": {
          "base_uri": "https://localhost:8080/"
        },
        "outputId": "6aba9df8-3207-43ed-cfea-97107cca1d7c"
      },
      "outputs": [
        {
          "output_type": "stream",
          "name": "stdout",
          "text": [
            "Drive already mounted at /content/drive; to attempt to forcibly remount, call drive.mount(\"/content/drive\", force_remount=True).\n"
          ]
        }
      ],
      "source": [
        "from google.colab import drive\n",
        "drive.mount('/content/drive')"
      ]
    },
    {
      "cell_type": "code",
      "source": [
        "%cd \"/content/drive/MyDrive/Colab Notebooks/3-2/\""
      ],
      "metadata": {
        "colab": {
          "base_uri": "https://localhost:8080/"
        },
        "id": "FXzbhI9EnjM2",
        "outputId": "a909dc5b-af2d-43c5-f9ce-7dbea2383b5f"
      },
      "execution_count": null,
      "outputs": [
        {
          "output_type": "stream",
          "name": "stdout",
          "text": [
            "/content/drive/MyDrive/Colab Notebooks/3-2\n"
          ]
        }
      ]
    },
    {
      "cell_type": "code",
      "source": [
        "#필요한 패키지 불러오기\n",
        "\n",
        "import pandas_datareader.data as pdr\n",
        "import matplotlib.pyplot as plt\n",
        "import numpy as np\n",
        "import pandas as pd\n",
        "import seaborn as sns\n",
        "\n",
        "%matplotlib inline\n",
        "\n",
        "import yfinance as yf\n",
        "yf.pdr_override()  # <-- Override to use yfinance when calling pandas_datareader"
      ],
      "metadata": {
        "id": "H5VBuGaUFLrG"
      },
      "execution_count": null,
      "outputs": []
    },
    {
      "cell_type": "code",
      "source": [
        "#바이오 기업들 Id 불러와서 리스트로 저장\n",
        "import pandas as pd\n",
        "\n",
        "df = pd.read_parquet('./inner_bio_companyId.parquet')\n",
        "indexes = list(df['companyId'])"
      ],
      "metadata": {
        "id": "PpcOX7XKFNXY"
      },
      "execution_count": null,
      "outputs": []
    },
    {
      "cell_type": "code",
      "source": [
        "#바이오 마켓 데이터 불러오기\n",
        "import pyarrow.parquet as pq\n",
        "import pandas as pd\n",
        "filters = [('companyId', 'in', indexes)]\n",
        "df_market = pd.read_parquet('./market', filters=filters, columns=['companyId', 'pricingDate', 'priceClose', 'adjustmentFactor'])\n",
        "df_market['companyId'] = list(map(int, df_market['companyId']))\n",
        "df_market"
      ],
      "metadata": {
        "id": "yN36xRv9Fp8r"
      },
      "execution_count": null,
      "outputs": []
    },
    {
      "cell_type": "code",
      "source": [
        "#바이오 예상치 데이터 불러오기\n",
        "filters = [('companyId', 'in', indexes)]\n",
        "df_estimates = pd.read_parquet('./estimates', filters=filters)\n",
        "\n",
        "df_estimates['companyId'] = list(map(int, df_estimates['companyId']))\n",
        "df_estimates['dataItemId'] = list(map(int, df_estimates['dataItemId']))\n",
        "df_estimates['dataItemValue'] = list(map(float, df_estimates['dataItemValue']))\n",
        "df_estimates['fiscalYear'] = list(map(int, df_estimates['fiscalYear']))\n",
        "\n",
        "pd.options.mode.chained_assignment = None\n",
        "df_est = df_estimates.copy()\n",
        "\n",
        "#Estimates 데이터 단위 맞추는 작업\n",
        "\n",
        "for i in range(len(df_est)):\n",
        "  if df_est['estimateScaleName'][i] == 'Millions':\n",
        "    df_est['dataItemValue'][i] = df_est['dataItemValue'][i] * 1_000_000\n",
        "  elif df_est['estimateScaleName'][i] == 'Billions':\n",
        "    df_est['dataItemValue'][i] = df_est['dataItemValue'][i] * 1_000_000_000\n",
        "df_est.drop(['estimateScaleName'], axis=1, inplace=True)\n",
        "\n",
        "#39414143 예상치 데이터가 -e^11이 나옴에 Outlier라고 판단하여 제거\n",
        "df_est = df_est[df_est['companyId'] != 39414143]\n",
        "df_est"
      ],
      "metadata": {
        "id": "FX7l4kg0q_bG"
      },
      "execution_count": null,
      "outputs": []
    },
    {
      "cell_type": "code",
      "source": [
        "#환율 데이터 불러오기 + 21년 ~ 22년까지 Currency별로 데이터프레임 정리\n",
        "import pyarrow.parquet as pq\n",
        "import pandas as pd\n",
        "df_exchange = pd.read_parquet('./exchange')\n",
        "\n",
        "df_ex = df_exchange.copy()\n",
        "df_ex.sort_values('priceDate', ascending=True, inplace=True)\n",
        "df_ex.set_index('priceDate', drop=True, inplace=True)\n",
        "\n",
        "code = list(df_ex['ISOCode'].unique())\n",
        "fx = pd.DataFrame()\n",
        "\n",
        "for c in code:\n",
        "  ex = df_ex[(df_ex['ISOCode'] == c)].copy()\n",
        "  ex.rename(columns={'priceClose' : c}, inplace=True)\n",
        "  ex.drop(['ISOCode'], axis=1, inplace=True)\n",
        "  d = ex.loc['2021-09-22':'2023-09-22'].copy()\n",
        "  d = d[~d.index.duplicated(keep='first')]\n",
        "  d = d.apply(pd.to_numeric, errors='coerce')\n",
        "  fx = pd.concat([fx, d], axis=1)"
      ],
      "metadata": {
        "id": "2JetiRypv1NN"
      },
      "execution_count": null,
      "outputs": []
    },
    {
      "cell_type": "code",
      "source": [
        "#Estimates 데이터 항목 리스트\n",
        "estimates_unique = df_est.groupby(['dataItemId','dataItemName', 'periodTypeName']).size().reset_index(name='freq')\n",
        "estimates_unique.drop('freq', axis=1, inplace=True)\n",
        "\n",
        "#예상치 데이터 중에 Non-periodic을 제외하고 Annual 데이터만 다룰거라 분류\n",
        "annual = estimates_unique[estimates_unique['periodTypeName'] == 'Annual']\n",
        "annual_item = list(annual['dataItemName'])\n",
        "estimates_unique"
      ],
      "metadata": {
        "id": "Z4PXaTY3rZnH"
      },
      "execution_count": null,
      "outputs": []
    },
    {
      "cell_type": "code",
      "source": [
        "#마켓 데이터로부터 기업의 주가를 시계열로 데이터로 정리\n",
        "\n",
        "df_price = df_market.copy()\n",
        "df_price['price'] = df_price['priceClose'] * df_price['adjustmentFactor']\n",
        "df_price['price'] = df_price['price'].apply(lambda x: round(x, 4))\n",
        "df_price.drop(['priceClose', 'adjustmentFactor'], axis=1, inplace=True)\n",
        "\n",
        "df_price['companyId'] = list(map(int, df_price['companyId']))\n",
        "unique_id = list(df_price['companyId'].unique())\n",
        "market = pd.DataFrame()"
      ],
      "metadata": {
        "id": "lh_vsVKvaySz"
      },
      "execution_count": null,
      "outputs": []
    },
    {
      "cell_type": "code",
      "source": [
        "#마켓 데이터로부터 기업의 주가를 시계열로 데이터로 정리\n",
        "\n",
        "df_price = df_market.copy()\n",
        "df_price['price'] = df_price['priceClose'] * df_price['adjustmentFactor']\n",
        "df_price['price'] = df_price['price'].apply(lambda x: round(x, 4))\n",
        "df_price.drop(['priceClose', 'adjustmentFactor'], axis=1, inplace=True)\n",
        "\n",
        "df_price['companyId'] = list(map(int, df_price['companyId']))\n",
        "unique_id = list(df_price['companyId'].unique())\n",
        "market = pd.DataFrame()\n",
        "\n",
        "#팩터 모델링을 위한 Training의 기간은 21년 9월 22일부터 22년 9월 22일까지\n",
        "for id in unique_id:\n",
        "  ex = df_price[(df_price['companyId'] == id)].copy()\n",
        "  ex.rename(columns={'price' : id}, inplace=True)\n",
        "  ex.drop(['companyId'], axis=1, inplace=True)\n",
        "  ex.sort_values(by='pricingDate', inplace=True)\n",
        "  ex.set_index('pricingDate', inplace=True, drop=True)\n",
        "  d = ex.loc['2021-09-22':'2022-09-22'].copy()\n",
        "  d = d[~d.index.duplicated(keep='first')]\n",
        "  d = d.apply(pd.to_numeric, errors='coerce')\n",
        "  market = pd.concat([market, d], axis=1)\n",
        "\n",
        "market2 = market.copy()\n",
        "mark_date = market2.isnull().sum(axis=1).index\n",
        "mark_col = market2.isnull().sum(axis=0).index\n",
        "\n",
        "#한 날짜에 850개 초과의 기업이 주가가 없다면 해당 날짜 제거 (공휴일이라 판단)\n",
        "for i in mark_date:\n",
        "  if market2.isnull().sum(axis=1)[i] > 850:\n",
        "    market2.drop(i, inplace=True)\n",
        "\n",
        "#한 기업이 40일 이상의 주가가 없으면 제거 (결측치가 너무 많으면 평균이나 선형보간법으로 결측치를 채우는게 무리가 있다고 판단)\n",
        "for i in mark_col:\n",
        "  if market2.isnull().sum(axis=0)[i] > 40:\n",
        "    market2.drop(i, axis=1, inplace=True)\n",
        "\n",
        "#선형 보간법으로 우선 채우고 연속된 결측치의 경우에는 전 값으로 결측치를 처리\n",
        "market2.interpolate(method='linear', inplace=True)\n",
        "market2.fillna(method='bfill', inplace=True)\n",
        "market2.drop(39414143, axis=1, inplace=True)"
      ],
      "metadata": {
        "id": "0xTnAn3xtGL3"
      },
      "execution_count": null,
      "outputs": []
    },
    {
      "cell_type": "code",
      "source": [
        "#Estimates 데이터 중에 ISOCode가 없는 데이터들이 존재하는데 이를 제거\n",
        "\n",
        "for a in annual_item:\n",
        "  d = df_est[(df_est['dataItemName'] == a)]['ISOCode'].isnull().sum()\n",
        "  if d > 0:\n",
        "    annual_item.remove(a)\n",
        "\n",
        "len(annual_item)"
      ],
      "metadata": {
        "id": "f4AQpx5XLqWQ"
      },
      "execution_count": null,
      "outputs": []
    },
    {
      "cell_type": "code",
      "source": [
        "#한 예상치 데이터에 대해 크기 순으로 정렬하여 상위 50%, 하위 50%를 기준으로 롱숏 포트폴리오를 구성 후 수익률 산출\n",
        "#예상치 데이터는 연간으로 나타나기 때문에 21년을 데이터를 바탕으로 21년 9월 22일 ~ 21년 12월 31일까지의 포트폴리오를 구성\n",
        "#22년 데이터에 대해서는 22년 1월 1일~22년 9월 22일까지의 포트폴리오를 구성\n",
        "\n",
        "def calculate(item, year):\n",
        "  market3 = market2.copy()\n",
        "  #아이템이랑 연도 받아서 데이터프레임 생성\n",
        "  example_feature = df_est[(df_est['dataItemName'] == item)  & (df_est['fiscalYear'] == year)]\n",
        "  example = example_feature[['companyId', 'dataItemValue', 'ISOCode']].copy()\n",
        "\n",
        "  #같은 시점에 똑같은 기업이 똑같은 예상치 데이터에 대해 다른 값을 가지고 있다면 평균 내고 하나의 값으로 변환\n",
        "  #ex) 21년에 A 기업의 EBITDA Estimate이 다른 값으로 2~3개가 있음 -> 평균 내서 하나만 남기기\n",
        "\n",
        "  example2 = example.copy()\n",
        "  for id in list(map(int, example2['companyId'])):\n",
        "    num = len(example2[example2['companyId']==id]['dataItemValue'].values)\n",
        "    if num > 1:\n",
        "      idx = list(example2[example2['companyId']==id]['dataItemValue'].index)\n",
        "      avg = []\n",
        "      for i in idx:\n",
        "        a = example2.loc[i]['dataItemValue']\n",
        "        avg.append(a)\n",
        "      average = sum(avg) / len(avg)\n",
        "      example2.loc[idx[0]]['dataItemValue'] = average\n",
        "      example2.drop([i for i in idx[0:]], inplace=True)\n",
        "  example2.reset_index(drop=True, inplace=True)\n",
        "\n",
        "  #예상치 데이터가 어느 나라의 기업이냐에 따라 명시되어 있는 Currency가 다름 (ISOCode를 통해 확인 가능)\n",
        "  #21년 예상치 데이터를 활용하여 21년 9월 22일부터 ~ 21년 말까지의 포트폴리오를 구성하기 때문에,\n",
        "  #달러로 표시되어 있는게 아니라면 21년 9월 22일의 환율을 기준으로 값을 달러로 변경\n",
        "  #22년은 1월 1일 환율을 기준으로 값을 달러로 변경\n",
        "\n",
        "  if year == 2021:\n",
        "    for i in range(len(example2)):\n",
        "      if example2['ISOCode'][i] != \"USD\":\n",
        "        example2['dataItemValue'][i] = (example2['dataItemValue'][i]) / (fx.loc[\"2021-09-22\", example2['ISOCode'][i]])\n",
        "  else:\n",
        "    for i in range(len(example2)):\n",
        "      if example2['ISOCode'][i] != \"USD\":\n",
        "        example2['dataItemValue'][i] = (example2['dataItemValue'][i]) / (fx.loc[\"2022-01-01\", example2['ISOCode'][i]])\n",
        "\n",
        "  example2.drop('ISOCode', axis=1, inplace=True)\n",
        "  example2.sort_values(by='dataItemValue', ascending=False, inplace=True)\n",
        "\n",
        "  #데이터가 있는 기업들의 주가를 불러옴\n",
        "  comp_id = list(map(int, example2['companyId']))\n",
        "  market3 = market3.reindex(columns=comp_id)\n",
        "  market3 = market3.dropna(axis=1)\n",
        "\n",
        "  #년도에 따라서 포트폴리오를 구성하는 기간이 다르기 때문에 그 구간에서의 주가를 가져옴\n",
        "  if year == 2021:\n",
        "    price_y = market3.loc['2021-09-22':'2021-12-31'].copy()\n",
        "  elif year == 2022:\n",
        "    price_y = market3.loc['2022-01-01':'2022-09-22'].copy()\n",
        "\n",
        "  for col in price_y.columns:\n",
        "    price_y[col] = price_y[col].apply(lambda x: float(x))\n",
        "\n",
        "  #주가를 수익률로 변환 후에 크기 순으로 정렬되어 있기 때문에 상위 50퍼는 롱,\n",
        "  #하위 50퍼는 숏을 갖는 포트폴리오의 수익률을 새로운 칼럼으로 생성\n",
        "  price_y = price_y.pct_change(1).dropna()\n",
        "  price_y = price_y + 1\n",
        "  cum_ret = price_y.cumprod() - 1\n",
        "  half = int(len(cum_ret.columns) / 2)\n",
        "  cum_ret[item] = (cum_ret.iloc[:, 0:half+1].sum(axis=1) - cum_ret.iloc[:, half+1:].sum(axis=1)) / len(cum_ret.columns)\n",
        "  return cum_ret[item]"
      ],
      "metadata": {
        "id": "bF-g5TLOwFUw"
      },
      "execution_count": null,
      "outputs": []
    },
    {
      "cell_type": "code",
      "source": [
        "import pyarrow.parquet as pq\n",
        "import pandas as pd\n",
        "import statsmodels.api as sm\n",
        "\n",
        "#21년 9월 22일부터 ~ 22년 9월 22일까지 각 예상치 데이터에 대한 롱숏 포트폴리오를 구성 후 일별 수익률을 계산\n",
        "\n",
        "pd.options.mode.chained_assignment = None\n",
        "year = [2022]\n",
        "multi_agg = pd.DataFrame()\n",
        "for item in annual_item:\n",
        "  pf = calculate(item, 2021)\n",
        "  for y in year:\n",
        "    temp = calculate(item, y)\n",
        "    pf = pd.concat([pf, temp], axis=0)\n",
        "  multi_agg = pd.concat([multi_agg, pf], axis=1)\n",
        "multi_agg"
      ],
      "metadata": {
        "id": "vBemOt5REDuG",
        "collapsed": true
      },
      "execution_count": null,
      "outputs": []
    },
    {
      "cell_type": "code",
      "source": [
        "#데이터프레임 생성 과정에서 결측치 존재하면 칼럼 제거\n",
        "port = multi_agg.copy()\n",
        "columns_with_missing_values = list(port.columns[port.isnull().any()])\n",
        "port.drop(columns_with_missing_values, axis=1, inplace=True)"
      ],
      "metadata": {
        "id": "7lx7xGIQXMf8"
      },
      "execution_count": null,
      "outputs": []
    },
    {
      "cell_type": "code",
      "source": [
        "#주가 데이터로부터 수익률을 구하고 첫쨰날을 제거\n",
        "market4 = market2.copy()\n",
        "market4 = market4.pct_change(1)\n",
        "market4.drop('2021-09-22', inplace=True)\n",
        "\n",
        "#주가 수익률과 포트폴리오 수익률을 합쳐주며 특정 날짜에 Null 값이 존재하면 드랍\n",
        "estimates_final = pd.concat([market4, port], axis=1)\n",
        "a = estimates_final.index[estimates_final.isnull().any(axis=1)]\n",
        "estimates_final.drop(a, inplace=True)\n",
        "estimates_final"
      ],
      "metadata": {
        "id": "mMH0fNDEXagl"
      },
      "execution_count": null,
      "outputs": []
    },
    {
      "cell_type": "code",
      "source": [
        "port.corr()"
      ],
      "metadata": {
        "id": "KEClkPLGSoWb"
      },
      "execution_count": null,
      "outputs": []
    },
    {
      "cell_type": "code",
      "source": [
        "#Total은 바이오 섹터에 속하는 개별 기업의 개수\n",
        "total = len(estimates_final.columns[:-24])\n",
        "#Port_col은 각 포트폴리오의 이름을 의미\n",
        "port_col = list(port.columns)\n",
        "\n",
        "#개별 기업의 수익률을 y로 두고, 각 데이터에 대한 포트폴리오를 X로 두고 1158개에 대해 OLS를 돌리고,\n",
        "#그 중 P-value의 값이 0.05 이하인 기업의 개수를 계산\n",
        "for p in port_col:\n",
        "  cnt = 0\n",
        "  for col in estimates_final.columns[:-24]:\n",
        "    res = sm.OLS(endog=estimates_final[col], exog=sm.add_constant(estimates_final[p])).fit()-\n",
        "    if res.pvalues[1] <= 0.05:\n",
        "      cnt += 1\n",
        "  print(p, cnt)"
      ],
      "metadata": {
        "id": "prez56KOO6Ie"
      },
      "execution_count": null,
      "outputs": []
    },
    {
      "cell_type": "code",
      "source": [],
      "metadata": {
        "id": "95PXzRUpegnZ"
      },
      "execution_count": null,
      "outputs": []
    }
  ]
}