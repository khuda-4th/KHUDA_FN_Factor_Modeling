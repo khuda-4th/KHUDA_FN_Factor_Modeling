{
  "nbformat": 4,
  "nbformat_minor": 0,
  "metadata": {
    "colab": {
      "provenance": []
    },
    "kernelspec": {
      "name": "python3",
      "display_name": "Python 3"
    },
    "language_info": {
      "name": "python"
    }
  },
  "cells": [
    {
      "cell_type": "code",
      "execution_count": null,
      "metadata": {
        "colab": {
          "base_uri": "https://localhost:8080/"
        },
        "id": "mA2Kb7fliMbe",
        "outputId": "852c927c-b9b1-4e8d-fc09-e230caca07e8"
      },
      "outputs": [
        {
          "output_type": "stream",
          "name": "stdout",
          "text": [
            "/content/drive/MyDrive/Colab Notebooks/3-2\n"
          ]
        }
      ],
      "source": [
        "%cd \"/content/drive/MyDrive/Colab Notebooks/3-2/\""
      ]
    },
    {
      "cell_type": "code",
      "source": [
        "#바이오 기업들 Id 불러와서 리스트로 저장\n",
        "import pandas as pd\n",
        "\n",
        "df = pd.read_parquet('./inner_bio_companyId.parquet')\n",
        "indexes = list(df['companyId'])"
      ],
      "metadata": {
        "id": "vI37b4xwi3OZ"
      },
      "execution_count": null,
      "outputs": []
    },
    {
      "cell_type": "code",
      "source": [
        "#바이오 마켓 데이터 불러오기\n",
        "import pyarrow.parquet as pq\n",
        "import pandas as pd\n",
        "filters = [('companyId', 'in', indexes)]\n",
        "df_market = pd.read_parquet('./market', filters=filters, columns=['companyId', 'pricingDate', 'priceClose', 'adjustmentFactor'])\n",
        "df_market['companyId'] = list(map(int, df_market['companyId']))\n",
        "df_market"
      ],
      "metadata": {
        "id": "OQRKHjfwjG0O"
      },
      "execution_count": null,
      "outputs": []
    },
    {
      "cell_type": "code",
      "source": [
        "#바이오 재무 데이터 불러오기\n",
        "\n",
        "import pyarrow.parquet as pq\n",
        "import pandas as pd\n",
        "filters = [('companyId', 'in', indexes)]\n",
        "df_finance = pd.read_parquet('./financials', filters=filters, columns=['companyId', 'periodTypeName', 'fiscalQuarter', 'fiscalYear', 'dataItemName', 'dataItemValue', 'ISOCode', 'unitTypeValue'])\n",
        "\n",
        "#데이터 처리를 위해 필요한 칼럼들을 Int 형태로 변환\n",
        "df_finance['companyId'] = list(map(int, df_finance['companyId']))\n",
        "df_finance['dataItemValue'] = list(map(float, df_finance['dataItemValue']))\n",
        "df_finance['fiscalYear'] = list(map(int, df_finance['fiscalYear']))\n",
        "df_finance['unitTypeValue'] = list(map(int, df_finance['unitTypeValue']))\n",
        "\n",
        "#주어진 UnitTypeValue를 Value에 곱하여 단위를 맞춰줌\n",
        "\n",
        "df_finance['dataItemValue'] = df_finance['dataItemValue'] * df_finance['unitTypeValue']\n",
        "df_finance.drop(['unitTypeValue'], axis=1, inplace=True)\n",
        "\n",
        "##39414143 기업의 데이터가 Outlier라고 판단하여 제거\n",
        "df_finance = df_finance[df_finance['companyId'] != 39414143]\n",
        "df_finance"
      ],
      "metadata": {
        "id": "iLn72_uhjdPr"
      },
      "execution_count": null,
      "outputs": []
    },
    {
      "cell_type": "code",
      "source": [
        "#재무 데이터 중 고유 아이템을 그룹으로 묶어서 분류\n",
        "financials_unique = df_finance.groupby(['dataItemName', 'periodTypeName']).size().reset_index(name='freq')\n",
        "financials_unique.drop('freq', axis=1, inplace=True)\n",
        "financials_unique"
      ],
      "metadata": {
        "id": "cOPlHBP9p_GE"
      },
      "execution_count": null,
      "outputs": []
    },
    {
      "cell_type": "code",
      "source": [
        "#한 고유 데이터가 분기별, 연간별로 두 개로 나누어져서 존재함\n",
        "#그 중에 분기별 데이터만 사용함\n",
        "quarter = financials_unique[financials_unique['periodTypeName'] == 'Quarterly']\n",
        "quarter_item = list(quarter['dataItemName'])\n",
        "quarter_item"
      ],
      "metadata": {
        "id": "knmD0PnCqmsX"
      },
      "execution_count": null,
      "outputs": []
    },
    {
      "cell_type": "code",
      "source": [
        "#재무 데이터가 존재하는 기업이 많이 없는 경우가 있어 데이터 당 기업이 500개 이상인 기업에 대해서만 분석을 진행\n",
        "financial_item = []\n",
        "quarter_i = quarter_item.copy()\n",
        "for item in quarter_i:\n",
        "  example_feature = df_finance[(df_finance['dataItemName'] == item) & (df_finance['periodTypeName'] == 'Quarterly')]\n",
        "  id = len(example_feature['companyId'].unique())\n",
        "  if id > 500:\n",
        "    financial_item.append(item)\n",
        "\n",
        "print(len(financial_item))"
      ],
      "metadata": {
        "colab": {
          "base_uri": "https://localhost:8080/"
        },
        "id": "_vgU9CzeGKJO",
        "outputId": "e9f710e5-bacc-41bc-d3dd-943cb5de754c"
      },
      "execution_count": null,
      "outputs": [
        {
          "output_type": "stream",
          "name": "stdout",
          "text": [
            "109\n"
          ]
        }
      ]
    },
    {
      "cell_type": "code",
      "source": [
        "#환율 데이터 불러오기 + 21년 ~ 22년까지 Currency별로 데이터프레임 정리\n",
        "import pyarrow.parquet as pq\n",
        "import pandas as pd\n",
        "df_exchange = pd.read_parquet('./exchange')\n",
        "\n",
        "df_ex = df_exchange.copy()\n",
        "df_ex.sort_values('priceDate', ascending=True, inplace=True)\n",
        "df_ex.set_index('priceDate', drop=True, inplace=True)\n",
        "\n",
        "code = list(df_ex['ISOCode'].unique())\n",
        "fx = pd.DataFrame()\n",
        "\n",
        "for c in code:\n",
        "  ex = df_ex[(df_ex['ISOCode'] == c)].copy()\n",
        "  ex.rename(columns={'priceClose' : c}, inplace=True)\n",
        "  ex.drop(['ISOCode'], axis=1, inplace=True)\n",
        "  d = ex.loc['2021-09-22':'2023-09-22'].copy()\n",
        "  d = d[~d.index.duplicated(keep='first')]\n",
        "  d = d.apply(pd.to_numeric, errors='coerce')\n",
        "  fx = pd.concat([fx, d], axis=1)"
      ],
      "metadata": {
        "id": "ZsxPuB2rZKvJ"
      },
      "execution_count": null,
      "outputs": []
    },
    {
      "cell_type": "code",
      "source": [
        "len(unique_id)"
      ],
      "metadata": {
        "id": "FR5wd9HRCBMK"
      },
      "execution_count": null,
      "outputs": []
    },
    {
      "cell_type": "code",
      "source": [
        "#마켓 데이터로부터 기업의 주가를 시계열로 데이터로 정리\n",
        "df_price = df_market.copy()\n",
        "df_price['price'] = df_price['priceClose'] * df_price['adjustmentFactor']\n",
        "df_price['price'] = df_price['price'].apply(lambda x: round(x, 4))\n",
        "df_price.drop(['priceClose', 'adjustmentFactor'], axis=1, inplace=True)\n",
        "\n",
        "df_price['companyId'] = list(map(int, df_price['companyId']))\n",
        "unique_id = list(df_price['companyId'].unique())\n",
        "market = pd.DataFrame()\n",
        "\n",
        "#팩터 모델링을 위한 Training의 기간은 21년 9월 22일부터 22년 9월 22일까지\n",
        "for id in unique_id:\n",
        "  ex = df_price[(df_price['companyId'] == id)].copy()\n",
        "  ex.rename(columns={'price' : id}, inplace=True)\n",
        "  ex.drop(['companyId'], axis=1, inplace=True)\n",
        "  ex.sort_values(by='pricingDate', inplace=True)\n",
        "  ex.set_index('pricingDate', inplace=True, drop=True)\n",
        "  d = ex.loc['2021-09-22':'2022-09-22'].copy()\n",
        "  d = d[~d.index.duplicated(keep='first')]\n",
        "  d = d.apply(pd.to_numeric, errors='coerce')\n",
        "  market = pd.concat([market, d], axis=1)\n",
        "\n",
        "market2 = market.copy()\n",
        "mark_date = market2.isnull().sum(axis=1).index\n",
        "mark_col = market2.isnull().sum(axis=0).index\n",
        "\n",
        "#한 날짜에 850개 초과의 기업이 주가가 없다면 해당 날짜 제거 (공휴일이라 판단)\n",
        "for i in mark_date:\n",
        "  if market2.isnull().sum(axis=1)[i] > 850:\n",
        "    market2.drop(i, inplace=True)\n",
        "\n",
        "#한 기업이 40일 이상의 주가가 없으면 제거 (결측치가 너무 많으면 평균이나 선형보간법으로 결측치를 채우는게 무리가 있다고 판단)\n",
        "for i in mark_col:\n",
        "  if market2.isnull().sum(axis=0)[i] > 40:\n",
        "    market2.drop(i, axis=1, inplace=True)\n",
        "\n",
        "#선형 보간법으로 우선 채우고 연속된 결측치의 경우에는 전 값으로 결측치를 처리\n",
        "market2.interpolate(method='linear', inplace=True)\n",
        "market2.fillna(method='bfill', inplace=True)\n",
        "market2.drop(39414143, axis=1, inplace=True)"
      ],
      "metadata": {
        "id": "dXDIj5ehd4Ya"
      },
      "execution_count": null,
      "outputs": []
    },
    {
      "cell_type": "code",
      "source": [
        "#한 재무 데이터에 대해 크기 순으로 정렬하여 상위 50%, 하위 50%를 기준으로 롱숏 포트폴리오를 구성 후 수익률 산출\n",
        "#재무 데이터는 분기별로 나타나기 때문에 예를 들어 2분기 재무 데이터를 통해 3분기 포트폴리오를 구성하는 방향\n",
        "#따라서 21년 2분기 데이터를 통해 21년 9월 22일 ~ 21년 9월 30일까지의 포트폴리오를 구성\n",
        "#21년 3분기 데이터를 통해 21년 10월 1일 ~ 21년 12월 31일까지의 포트폴리오를 구성, 이렇게 22년 9월 22일까지 진행\n",
        "def calculate(item, year, quarter):\n",
        "  market3 = market2.copy()\n",
        "  #아이템이랑 연도 받아서 데이터프레임 생성\n",
        "  example_feature = df_finance[(df_finance['dataItemName'] == item)  & (df_finance['fiscalYear'] == year) & (df_finance['fiscalQuarter'] == quarter) & (df_finance['periodTypeName'] == 'Quarterly')]\n",
        "  example = example_feature[['companyId', 'dataItemValue', 'ISOCode']].copy()\n",
        "\n",
        "  #같은 시점에 똑같은 기업이 똑같은 재무 데이터에 대해 다른 값을 가지고 있다면 평균 내고 하나의 값으로 변환\n",
        "  #ex) 21년에 A 기업의 영업 이익이 다른 값으로 2~3개가 있음 -> 평균 내서 하나만 남기기\n",
        "\n",
        "  example2 = example.copy()\n",
        "  for id in list(map(int, example2['companyId'])):\n",
        "    num = len(example2[example2['companyId']==id]['dataItemValue'].values)\n",
        "    if num > 1:\n",
        "      idx = list(example2[example2['companyId']==id]['dataItemValue'].index)\n",
        "      avg = []\n",
        "      for i in idx:\n",
        "        a = example2.loc[i]['dataItemValue']\n",
        "        avg.append(a)\n",
        "      average = sum(avg) / len(avg)\n",
        "      example2.loc[idx[0]]['dataItemValue'] = average\n",
        "      example2.drop([i for i in idx[0:]], inplace=True)\n",
        "  example2.reset_index(drop=True, inplace=True)\n",
        "\n",
        "  #재무 데이터가 어느 나라의 기업이냐에 따라 명시되어 있는 Currency가 다름 (ISOCode를 통해 확인 가능)\n",
        "  #21년 2분기 재무 데이터를 활용하여 21년 9월 22일부터 ~ 21년 9월 30일까지의 포트폴리오를 구성하기 때문에,\n",
        "  #달러로 표시되어 있는게 아니라면 21년 9월 22일의 환율을 기준으로 값을 달러로 변경\n",
        "  #이런 식으로 각 포트폴리오 구성이 시작되는 날짜를 기준으로 환율을 곱하여 값을 맞춰줌\n",
        "\n",
        "  if (year == 2021) & (quarter == 2):\n",
        "    for i in range(len(example2)):\n",
        "      if example2['ISOCode'][i] != \"USD\":\n",
        "        example2['dataItemValue'][i] = (example2['dataItemValue'][i]) / (fx.loc[\"2021-09-22\", example2['ISOCode'][i]])\n",
        "  elif (year == 2021) & (quarter == 3):\n",
        "    for i in range(len(example2)):\n",
        "      if example2['ISOCode'][i] != \"USD\":\n",
        "        example2['dataItemValue'][i] = (example2['dataItemValue'][i]) / (fx.loc[\"2021-10-01\", example2['ISOCode'][i]])\n",
        "  elif (year == 2021) & (quarter == 4):\n",
        "    for i in range(len(example2)):\n",
        "      if example2['ISOCode'][i] != \"USD\":\n",
        "        example2['dataItemValue'][i] = (example2['dataItemValue'][i]) / (fx.loc[\"2022-01-01\", example2['ISOCode'][i]])\n",
        "  elif (year == 2022) & (quarter == 1):\n",
        "    for i in range(len(example2)):\n",
        "      if example2['ISOCode'][i] != \"USD\":\n",
        "        example2['dataItemValue'][i] = (example2['dataItemValue'][i]) / (fx.loc[\"2022-04-01\", example2['ISOCode'][i]])\n",
        "  elif (year == 2022) & (quarter == 2):\n",
        "    for i in range(len(example2)):\n",
        "      if example2['ISOCode'][i] != \"USD\":\n",
        "        example2['dataItemValue'][i] = (example2['dataItemValue'][i]) / (fx.loc[\"2022-07-01\", example2['ISOCode'][i]])\n",
        "\n",
        "  #작업하는 데이터의 값을 내림차순으로 정렬\n",
        "  example2.drop('ISOCode', axis=1, inplace=True)\n",
        "  example2.sort_values(by='dataItemValue', ascending=False, inplace=True)\n",
        "\n",
        "  #데이터가 있는 기업들의 주가를 불러옴\n",
        "  comp_id = list(map(int, example2['companyId']))\n",
        "  market3 = market3.reindex(columns=comp_id)\n",
        "  market3 = market3.dropna(axis=1)\n",
        "\n",
        "  #년도에 따라서 포트폴리오를 구성하는 기간이 다르기 때문에 그 구간에서의 주가를 가져옴\n",
        "  if (year == 2021) & (quarter == 2):\n",
        "    price_y = market3.loc['2021-09-22':'2021-09-30'].copy()\n",
        "  elif (year == 2021) & (quarter == 3):\n",
        "    price_y = market3.loc['2022-10-01':'2022-12-31'].copy()\n",
        "  elif (year == 2021) & (quarter == 4):\n",
        "    price_y = market3.loc['2022-01-01':'2022-03-31'].copy()\n",
        "  elif (year == 2022) & (quarter == 1):\n",
        "    price_y = market3.loc['2022-04-01':'2022-06-30'].copy()\n",
        "  elif (year == 2022) & (quarter == 2):\n",
        "    price_y = market3.loc['2022-07-01':'2022-09-30'].copy()\n",
        "\n",
        "  for col in price_y.columns:\n",
        "    price_y[col] = price_y[col].apply(lambda x: float(x))\n",
        "\n",
        "\n",
        "  #주가를 수익률로 변환 후에 크기 순으로 정렬되어 있기 때문에 상위 50퍼는 롱,\n",
        "  #하위 50퍼는 숏을 갖는 포트폴리오의 수익률을 새로운 칼럼으로 생성\n",
        "  price_y = price_y.pct_change(1).dropna()\n",
        "  price_y = price_y + 1\n",
        "  cum_ret = price_y.cumprod() - 1\n",
        "  half = int(len(cum_ret.columns) / 2)\n",
        "  cum_ret[item] = (cum_ret.iloc[:, 0:half+1].sum(axis=1) - cum_ret.iloc[:, half+1:].sum(axis=1)) / len(cum_ret.columns)\n",
        "\n",
        "  return cum_ret[item]"
      ],
      "metadata": {
        "id": "WPSNb0SE2MZg"
      },
      "execution_count": null,
      "outputs": []
    },
    {
      "cell_type": "code",
      "source": [
        "import pyarrow.parquet as pq\n",
        "import pandas as pd\n",
        "import statsmodels.api as sm\n",
        "\n",
        "#21년 9월 22일부터 ~ 22년 9월 22일까지 각 예상치에 대해 분기별로 롱숏 포트폴리오를 구성 후 일별 수익률을 계산\n",
        "\n",
        "pd.options.mode.chained_assignment = None\n",
        "pair = [[2021, 3], [2021, 4], [2022, 1], [2022, 2]]\n",
        "multi_agg = pd.DataFrame()\n",
        "for item in financial_item:\n",
        "  pf = calculate(item, 2021, 2)\n",
        "  for y,q in pair:\n",
        "      temp = calculate(item, y, q)\n",
        "      pf = pd.concat([pf, temp], axis=0)\n",
        "\n",
        "  multi_agg = pd.concat([multi_agg, pf], axis=1)"
      ],
      "metadata": {
        "id": "EsmVzkZo6Seo"
      },
      "execution_count": null,
      "outputs": []
    },
    {
      "cell_type": "code",
      "source": [
        "multi_agg"
      ],
      "metadata": {
        "id": "-FJPAAZZTjoe"
      },
      "execution_count": null,
      "outputs": []
    },
    {
      "cell_type": "code",
      "source": [
        "#데이터프레임 생성 과정에서 결측치 존재하면 칼럼 제거\n",
        "port = multi_agg.copy()\n",
        "columns_with_missing_values = list(port.columns[port.isnull().any()])\n",
        "port.drop(columns_with_missing_values, axis=1, inplace=True)\n",
        "port"
      ],
      "metadata": {
        "id": "qkKqXk1veCRo"
      },
      "execution_count": null,
      "outputs": []
    },
    {
      "cell_type": "code",
      "source": [
        "#주가 데이터로부터 수익률을 구하고 첫쨰날을 제거\n",
        "market4 = market2.copy()\n",
        "market4 = market4.pct_change(1)\n",
        "market4.drop('2021-09-22', inplace=True)\n",
        "\n",
        "#주가 수익률과 포트폴리오 수익률을 합쳐주며 특정 날짜에 Null 값이 존재하면 드랍\n",
        "financial_final = pd.concat([market4, port], axis=1)\n",
        "a = financial_final.index[financial_final.isnull().any(axis=1)]\n",
        "financial_final.drop(a, inplace=True)\n",
        "financial_final"
      ],
      "metadata": {
        "id": "bOK7mvDag0B9"
      },
      "execution_count": null,
      "outputs": []
    },
    {
      "cell_type": "code",
      "source": [
        "financial_final.to_csv('financial_final.csv', index=True)"
      ],
      "metadata": {
        "id": "McapkcC5eA4x"
      },
      "execution_count": null,
      "outputs": []
    },
    {
      "cell_type": "code",
      "source": [
        "from tqdm import tqdm"
      ],
      "metadata": {
        "id": "e86chuN2Oxzw"
      },
      "execution_count": null,
      "outputs": []
    },
    {
      "cell_type": "code",
      "source": [
        "#Total은 바이오 섹터에 속하는 개별 기업의 개수\n",
        "total = len(financial_final.columns[:-109])\n",
        "#Port_col은 각 포트폴리오의 이름을 의미\n",
        "port_col = list(port.columns)\n",
        "count_x1 = []\n",
        "#개별 기업의 수익률을 y로 두고, 각 데이터에 대한 포트폴리오를 X로 두고 1158개에 대해 OLS를 돌리고,\n",
        "#그 중 P-value의 값이 0.05 이하인 기업의 개수를 계산\n",
        "for p in port_col:\n",
        "  cnt = 0\n",
        "  for col in tqdm(financial_final.columns[:-109]):\n",
        "    res = sm.OLS(endog=financial_final[col], exog=sm.add_constant(financial_final[p])).fit()\n",
        "    if res.pvalues[1] <= 0.05:\n",
        "      cnt += 1\n",
        "  count_x1.append(cnt)"
      ],
      "metadata": {
        "id": "tD1kFXVDHUVl"
      },
      "execution_count": null,
      "outputs": []
    },
    {
      "cell_type": "code",
      "source": [
        "custom_percentiles = [0.25, 0.5, 0.75, 0.90]\n",
        "pd.DataFrame(count_x1).describe(percentiles=custom_percentiles)"
      ],
      "metadata": {
        "id": "YLHBuTKq8s5p"
      },
      "execution_count": null,
      "outputs": []
    },
    {
      "cell_type": "code",
      "source": [
        "#Total은 바이오 섹터에 속하는 개별 기업의 개수\n",
        "total = len(financial_final.columns[:-109])\n",
        "#Port_col은 각 포트폴리오의 이름을 의미\n",
        "port_col = list(port.columns)\n",
        "good_x1 = []\n",
        "#개별 기업의 수익률을 y로 두고, 각 데이터에 대한 포트폴리오를 X로 두고 1158개에 대해 OLS를 돌리고,\n",
        "#그 중 P-value의 값이 0.05 이하인 기업의 개수를 계산\n",
        "for p in tqdm(port_col):\n",
        "  cnt = 0\n",
        "  for col in financial_final.columns[:-109]:\n",
        "    res = sm.OLS(endog=financial_final[col], exog=sm.add_constant(financial_final[p])).fit()\n",
        "    if res.pvalues[1] <= 0.05:\n",
        "      cnt += 1\n",
        "  if cnt > 63:\n",
        "    good_x1.append(p)"
      ],
      "metadata": {
        "id": "7Y5zThIs3hVz"
      },
      "execution_count": null,
      "outputs": []
    },
    {
      "cell_type": "code",
      "source": [
        "pairs = [[good_x1[i], good_x1[j]] for i in range(len(good_x1)) for j in range(i + 1, len(good_x1))]\n",
        "total = len(financial_final.columns[:-109])\n",
        "count_x2 = []\n",
        "#개별 기업의 수익률을 y로 두고, X1, X2와 1158개의 y에 대해 OLS를 돌리고,\n",
        "#그 중 P-value의 값이 0.05 이하인 기업의 개수를 계산\n",
        "for p in tqdm(pairs):\n",
        "  cnt = 0\n",
        "  for col in financial_final.columns[:-109]:\n",
        "    res = sm.OLS(endog=financial_final[col], exog=sm.add_constant(financial_final[p])).fit()\n",
        "    if res.pvalues[1] <= 0.05:\n",
        "      cnt += 1\n",
        "  print(p, cnt)\n",
        "  count_x2.append(cnt)"
      ],
      "metadata": {
        "id": "BHneRaG_3JBI"
      },
      "execution_count": null,
      "outputs": []
    },
    {
      "cell_type": "code",
      "source": [
        "custom_percentiles = [0.75, 0.8, 0.85, 0.90]\n",
        "pd.DataFrame(count_x2).describe(percentiles=custom_percentiles)"
      ],
      "metadata": {
        "id": "z1J_bLsfMi6k"
      },
      "execution_count": null,
      "outputs": []
    },
    {
      "cell_type": "code",
      "source": [
        "total = len(financial_final.columns[:-109])\n",
        "#개별 기업의 수익률을 y로 두고, X1, X2와 1158개의 y에 대해 OLS를 돌리고,\n",
        "#그 중 P-value의 값이 0.05 이하인 기업의 개수를 계산\n",
        "good_x2 = []\n",
        "for p in tqdm(pairs):\n",
        "  cnt = 0\n",
        "  for col in financial_final.columns[:-109]:\n",
        "    res = sm.OLS(endog=financial_final[col], exog=sm.add_constant(financial_final[p])).fit()\n",
        "    if res.pvalues[1] <= 0.05:\n",
        "      cnt += 1\n",
        "  if cnt >= 145:\n",
        "    good_x2.append(p)"
      ],
      "metadata": {
        "id": "TFccWDCrMuNx"
      },
      "execution_count": null,
      "outputs": []
    },
    {
      "cell_type": "code",
      "source": [
        "good_x2"
      ],
      "metadata": {
        "id": "3cEztLnIO3aQ"
      },
      "execution_count": null,
      "outputs": []
    },
    {
      "cell_type": "code",
      "source": [
        "final = []\n",
        "for p in port_col:\n",
        "  if p not in ['Long-term Investments', 'Unearned Revenue Current, Total']:\n",
        "    final.append(['Long-term Investments', 'Unearned Revenue Current, Total', p])"
      ],
      "metadata": {
        "id": "wYzKtDHYAIwD"
      },
      "execution_count": null,
      "outputs": []
    },
    {
      "cell_type": "code",
      "source": [
        "total = len(financial_final.columns[:-109])\n",
        "#개별 기업의 수익률을 y로 두고, X1, X2와 1158개의 y에 대해 OLS를 돌리고,\n",
        "#그 중 P-value의 값이 0.05 이하인 기업의 개수를 계산\n",
        "for p in tqdm(final):\n",
        "  cnt = 0\n",
        "  for col in financial_final.columns[:-109]:\n",
        "    res = sm.OLS(endog=financial_final[col], exog=sm.add_constant(financial_final[p])).fit()\n",
        "    if res.pvalues[1] <= 0.05:\n",
        "      cnt += 1\n",
        "  print(p, cnt)"
      ],
      "metadata": {
        "id": "K74XwZlVAMf7"
      },
      "execution_count": null,
      "outputs": []
    }
  ]
}